{
 "cells": [
  {
   "cell_type": "code",
   "execution_count": 1,
   "id": "f65939e3",
   "metadata": {},
   "outputs": [],
   "source": [
    "import os\n",
    "\n",
    "import numpy as np # arrays\n",
    "import pandas as pd # dataframes\n",
    "pd.set_option('display.float_format','{:.2f}'.format) # display floats option\n",
    "import geopandas as gpd # geo dataframes\n",
    "from tqdm.notebook import tqdm # progress bar\n",
    "tqdm.pandas()\n",
    "\n",
    "import matplotlib.pyplot as plt"
   ]
  },
  {
   "cell_type": "markdown",
   "id": "b824bcb3",
   "metadata": {},
   "source": [
    "# Case Study: How Does a Bike-Share Navigate Speedy Success?\n",
    "<img src=\"logo.png\" width=\"200\" height=\"200\">"
   ]
  },
  {
   "cell_type": "markdown",
   "id": "75f79554",
   "metadata": {},
   "source": [
    "### Introduction\n",
    "\n",
    "In 2016, <font color=blue>Cyclistic</font> launched a successful bike-share offering. \n",
    "Bicycles are geotracked and locked into a network of stations across Chicago. \n",
    "The bikes can be unlocked from one station and returned to any other station in the system anytime.\n",
    "\n",
    "Until now, Cyclistic’s marketing strategy relied on building general awareness and appealing to broad consumer segments.\n",
    "One approach that helped make these things possible was the flexibility of its pricing plans: single-ride passes, full-day passes, and annual memberships. \n",
    "<span style='background:yellow'>Customers who purchase single-ride or full-day passes</span> are referred to as <font color=blue>casual</font> riders. \n",
    "<span style='background:yellow'>Customers who purchase annual memberships</span> are Cyclistic <font color=blue>members</font>.\n",
    "\n",
    "Cyclistic’s <font color=blue>finance analysts</font> have concluded that annual members are much more profitable than casual riders. \n",
    "Although the pricing flexibility helps Cyclistic attract more customers, <font color=blue>Moreno</font> believes that maximizing the number of annual members will be key to future growth. \n",
    "Rather than creatinga marketing campaign that targets all-new customers, Moreno believes there is a very good chance to convert casual riders into members. \n",
    "She notes that casual riders are already aware of the Cyclistic program and have chosen Cyclistic for their mobility needs.\n",
    "\n",
    "Moreno has set a clear goal: **Design marketing strategies aimed at converting casual riders into annual members**. \n",
    "In order to do that, however, the marketing analyst team needs to better understand \n",
    "\n",
    "* How do annual members and casual riders use Cyclistic bikes differently?\n",
    "* Why would casual riders buy Cyclistic annual memberships?\n",
    "* How can Cyclistic use digital media to influence casual riders to become members?\n",
    "\n",
    "Moreno and her team are interested in analyzing the Cyclistic <span style='background:yellow'>historical bike trip data</span> to identify trends.\n",
    "Here, we focus on the first question:\n",
    "\n",
    "**How do annual members and casual riders use Cyclistic bikes differently?**\n",
    "\n",
    "We are tasked to produce <font color=red>within a week</font> a report with the following deliverables:\n",
    "\n",
    "<input type=\"checkbox\" disabled  /> A clear statement of the business task\n",
    "\n",
    "<input type=\"checkbox\" disabled  /> A description of all data sources used\n",
    "\n",
    "<input type=\"checkbox\" disabled  /> Documentation of any cleaning or manipulation of data\n",
    "\n",
    "<input type=\"checkbox\" disabled  /> A summary of your analysis\n",
    "\n",
    "<input type=\"checkbox\" disabled  /> Supporting visualizations and key findings\n",
    "\n",
    "<input type=\"checkbox\" disabled  /> Your top three recommendations based on your analysis\n"
   ]
  },
  {
   "cell_type": "markdown",
   "id": "d434c275",
   "metadata": {},
   "source": [
    "## 1. Ask Phase"
   ]
  },
  {
   "cell_type": "markdown",
   "id": "90c3cb47",
   "metadata": {},
   "source": [
    "The ultimate **business goal** is to <u>convert casual riders into annual members</u>. To this end, we\n",
    "\n",
    "* Derive usage <span style='background:yellow'>differences between casual riders and annual members from historical data of bike trips</span>\n",
    "\n",
    "Subsequently, we share these insights with the marketing analytics team to find\n",
    "\n",
    "* How knowing these differences might help us convert casual riders into annual members?\n",
    "\n",
    "Finally, these insights are used to develop a marketing strategy to be presented to and approved by the executive team."
   ]
  },
  {
   "cell_type": "markdown",
   "id": "92b78590",
   "metadata": {},
   "source": [
    "<input type=\"checkbox\" disabled  checked/> A clear statement of the business task"
   ]
  },
  {
   "cell_type": "markdown",
   "id": "dd875f65",
   "metadata": {},
   "source": [
    "## 2. Prepare Phase"
   ]
  },
  {
   "cell_type": "markdown",
   "id": "b99874b9",
   "metadata": {},
   "source": [
    "### Import Data\n",
    "\n",
    "The data to explore how different customer types are using Cyclistic bikes can be found under this [link](https://divvy-tripdata.s3.amazonaws.com/index.html). \n",
    "The data is public and has been made available by Motivate International Inc. under this [license](https://ride.divvybikes.com/data-license-agreement). \n",
    "Users' sensitive data has been excluded from the data.\n",
    "The data has been (presumably) processed to remove trips that are taken by staff as they service and inspect the system; and any trips that were below 60 seconds in length (potentially false starts or users trying to re-dock a bike to ensure it was secure).\n",
    "\n",
    "In the following, we import <span style='background:yellow'>historical trip data for the year 2022</span>. \n",
    "\n",
    "<u>Remark</u>: The data for each month was split into parts that do not exceed 25 MB size (see 'split.py') to conform with GitHub restrictions."
   ]
  },
  {
   "cell_type": "code",
   "execution_count": 2,
   "id": "ffb2003c",
   "metadata": {},
   "outputs": [],
   "source": [
    "csv_files = [f'2022{month+1:02d}-divvy-tripdata' for month in range(12)] # csv files\n",
    "all_files = os.listdir('./data') # all files in current directory\n",
    "\n",
    "container = [] # container for month dataframes\n",
    "for csv in csv_files:\n",
    "    parts = [f'./data/{x}' for x in all_files if x.startswith(f'{csv}_part')] # csv chunks\n",
    "    df = pd.concat(map(pd.read_csv, parts), ignore_index=True) # month csv\n",
    "    container.append(df) # update container\n",
    "df = pd.concat(container, ignore_index=True) # merge all months into a single dataframe"
   ]
  },
  {
   "cell_type": "markdown",
   "id": "e7c68ce3",
   "metadata": {},
   "source": [
    "### First glimpse"
   ]
  },
  {
   "cell_type": "code",
   "execution_count": 3,
   "id": "d67ebd8e",
   "metadata": {},
   "outputs": [
    {
     "name": "stdout",
     "output_type": "stream",
     "text": [
      "Number of rows: 5667717 and columns: 13\n",
      "ride_id                object\n",
      "rideable_type          object\n",
      "started_at             object\n",
      "ended_at               object\n",
      "start_station_name     object\n",
      "start_station_id       object\n",
      "end_station_name       object\n",
      "end_station_id         object\n",
      "start_lat             float64\n",
      "start_lng             float64\n",
      "end_lat               float64\n",
      "end_lng               float64\n",
      "member_casual          object\n",
      "dtype: object\n"
     ]
    },
    {
     "data": {
      "text/html": [
       "<div>\n",
       "<style scoped>\n",
       "    .dataframe tbody tr th:only-of-type {\n",
       "        vertical-align: middle;\n",
       "    }\n",
       "\n",
       "    .dataframe tbody tr th {\n",
       "        vertical-align: top;\n",
       "    }\n",
       "\n",
       "    .dataframe thead th {\n",
       "        text-align: right;\n",
       "    }\n",
       "</style>\n",
       "<table border=\"1\" class=\"dataframe\">\n",
       "  <thead>\n",
       "    <tr style=\"text-align: right;\">\n",
       "      <th></th>\n",
       "      <th>ride_id</th>\n",
       "      <th>rideable_type</th>\n",
       "      <th>started_at</th>\n",
       "      <th>ended_at</th>\n",
       "      <th>start_station_name</th>\n",
       "      <th>start_station_id</th>\n",
       "      <th>end_station_name</th>\n",
       "      <th>end_station_id</th>\n",
       "      <th>start_lat</th>\n",
       "      <th>start_lng</th>\n",
       "      <th>end_lat</th>\n",
       "      <th>end_lng</th>\n",
       "      <th>member_casual</th>\n",
       "    </tr>\n",
       "  </thead>\n",
       "  <tbody>\n",
       "    <tr>\n",
       "      <th>0</th>\n",
       "      <td>C2F7DD78E82EC875</td>\n",
       "      <td>electric_bike</td>\n",
       "      <td>2022-01-13 11:59:47</td>\n",
       "      <td>2022-01-13 12:02:44</td>\n",
       "      <td>Glenwood Ave &amp; Touhy Ave</td>\n",
       "      <td>525</td>\n",
       "      <td>Clark St &amp; Touhy Ave</td>\n",
       "      <td>RP-007</td>\n",
       "      <td>42.01</td>\n",
       "      <td>-87.67</td>\n",
       "      <td>42.01</td>\n",
       "      <td>-87.67</td>\n",
       "      <td>casual</td>\n",
       "    </tr>\n",
       "    <tr>\n",
       "      <th>1</th>\n",
       "      <td>A6CF8980A652D272</td>\n",
       "      <td>electric_bike</td>\n",
       "      <td>2022-01-10 08:41:56</td>\n",
       "      <td>2022-01-10 08:46:17</td>\n",
       "      <td>Glenwood Ave &amp; Touhy Ave</td>\n",
       "      <td>525</td>\n",
       "      <td>Clark St &amp; Touhy Ave</td>\n",
       "      <td>RP-007</td>\n",
       "      <td>42.01</td>\n",
       "      <td>-87.67</td>\n",
       "      <td>42.01</td>\n",
       "      <td>-87.67</td>\n",
       "      <td>casual</td>\n",
       "    </tr>\n",
       "    <tr>\n",
       "      <th>2</th>\n",
       "      <td>BD0F91DFF741C66D</td>\n",
       "      <td>classic_bike</td>\n",
       "      <td>2022-01-25 04:53:40</td>\n",
       "      <td>2022-01-25 04:58:01</td>\n",
       "      <td>Sheffield Ave &amp; Fullerton Ave</td>\n",
       "      <td>TA1306000016</td>\n",
       "      <td>Greenview Ave &amp; Fullerton Ave</td>\n",
       "      <td>TA1307000001</td>\n",
       "      <td>41.93</td>\n",
       "      <td>-87.65</td>\n",
       "      <td>41.93</td>\n",
       "      <td>-87.67</td>\n",
       "      <td>member</td>\n",
       "    </tr>\n",
       "    <tr>\n",
       "      <th>3</th>\n",
       "      <td>CBB80ED419105406</td>\n",
       "      <td>classic_bike</td>\n",
       "      <td>2022-01-04 00:18:04</td>\n",
       "      <td>2022-01-04 00:33:00</td>\n",
       "      <td>Clark St &amp; Bryn Mawr Ave</td>\n",
       "      <td>KA1504000151</td>\n",
       "      <td>Paulina St &amp; Montrose Ave</td>\n",
       "      <td>TA1309000021</td>\n",
       "      <td>41.98</td>\n",
       "      <td>-87.67</td>\n",
       "      <td>41.96</td>\n",
       "      <td>-87.67</td>\n",
       "      <td>casual</td>\n",
       "    </tr>\n",
       "    <tr>\n",
       "      <th>4</th>\n",
       "      <td>DDC963BFDDA51EEA</td>\n",
       "      <td>classic_bike</td>\n",
       "      <td>2022-01-20 01:31:10</td>\n",
       "      <td>2022-01-20 01:37:12</td>\n",
       "      <td>Michigan Ave &amp; Jackson Blvd</td>\n",
       "      <td>TA1309000002</td>\n",
       "      <td>State St &amp; Randolph St</td>\n",
       "      <td>TA1305000029</td>\n",
       "      <td>41.88</td>\n",
       "      <td>-87.62</td>\n",
       "      <td>41.88</td>\n",
       "      <td>-87.63</td>\n",
       "      <td>member</td>\n",
       "    </tr>\n",
       "  </tbody>\n",
       "</table>\n",
       "</div>"
      ],
      "text/plain": [
       "            ride_id  rideable_type           started_at             ended_at  \\\n",
       "0  C2F7DD78E82EC875  electric_bike  2022-01-13 11:59:47  2022-01-13 12:02:44   \n",
       "1  A6CF8980A652D272  electric_bike  2022-01-10 08:41:56  2022-01-10 08:46:17   \n",
       "2  BD0F91DFF741C66D   classic_bike  2022-01-25 04:53:40  2022-01-25 04:58:01   \n",
       "3  CBB80ED419105406   classic_bike  2022-01-04 00:18:04  2022-01-04 00:33:00   \n",
       "4  DDC963BFDDA51EEA   classic_bike  2022-01-20 01:31:10  2022-01-20 01:37:12   \n",
       "\n",
       "              start_station_name start_station_id  \\\n",
       "0       Glenwood Ave & Touhy Ave              525   \n",
       "1       Glenwood Ave & Touhy Ave              525   \n",
       "2  Sheffield Ave & Fullerton Ave     TA1306000016   \n",
       "3       Clark St & Bryn Mawr Ave     KA1504000151   \n",
       "4    Michigan Ave & Jackson Blvd     TA1309000002   \n",
       "\n",
       "                end_station_name end_station_id  start_lat  start_lng  \\\n",
       "0           Clark St & Touhy Ave         RP-007      42.01     -87.67   \n",
       "1           Clark St & Touhy Ave         RP-007      42.01     -87.67   \n",
       "2  Greenview Ave & Fullerton Ave   TA1307000001      41.93     -87.65   \n",
       "3      Paulina St & Montrose Ave   TA1309000021      41.98     -87.67   \n",
       "4         State St & Randolph St   TA1305000029      41.88     -87.62   \n",
       "\n",
       "   end_lat  end_lng member_casual  \n",
       "0    42.01   -87.67        casual  \n",
       "1    42.01   -87.67        casual  \n",
       "2    41.93   -87.67        member  \n",
       "3    41.96   -87.67        casual  \n",
       "4    41.88   -87.63        member  "
      ]
     },
     "execution_count": 3,
     "metadata": {},
     "output_type": "execute_result"
    }
   ],
   "source": [
    "m, n = df.shape\n",
    "print(f'Number of rows: {m} and columns: {n}')\n",
    "print(df.dtypes)\n",
    "df.head(5)"
   ]
  },
  {
   "cell_type": "code",
   "execution_count": 4,
   "id": "88119b3b",
   "metadata": {},
   "outputs": [
    {
     "name": "stdout",
     "output_type": "stream",
     "text": [
      "Unique bike types: ['electric_bike' 'classic_bike' 'docked_bike']\n",
      "Unique user types: ['casual' 'member']\n"
     ]
    }
   ],
   "source": [
    "unique_bikes = df['rideable_type'].unique()\n",
    "print(f'Unique bike types: {unique_bikes}')\n",
    "unique_users = df['member_casual'].unique()\n",
    "print(f'Unique user types: {unique_users}')"
   ]
  },
  {
   "cell_type": "markdown",
   "id": "58ec0b47",
   "metadata": {},
   "source": [
    "### First insights\n",
    "\n",
    "Each ride has a unique identifier, the <font color=blue>ride_id</font>. \n",
    "It is known <font color=blue>when</font> and <font color=blue>where</font> the ride has started and ended. \n",
    "Furthermore, we know the <font color=blue>type of bike</font> (electric vs classic vs docked) being used as well as the <font color=blue>rider type</font> (member vs casual).\n",
    "\n",
    "* <font color=blue>ride_id</font>: 16-characters-long ride identifier (consistent?)\n",
    "* <font color=blue>rideable_type</font>: 'electric_bike' or 'classic_bike' or 'docked_bike'. What does docked mean?\n",
    "* <font color=blue>started_at, ended_at</font>: convert strings to datetime format! sort data chronologically (by started_at)!\n",
    "* <font color=blue>start_station_name || start_station_id || start_lat, start_lng</font>: start station ids (consistent?)\n",
    "* <font color=blue>end_station_name || end_station_id || end_lat, end_lng</font>: end station ids (consistent?)\n",
    "* <font color=blue>member_casual</font>: 'casual' or 'member'"
   ]
  },
  {
   "cell_type": "markdown",
   "id": "151261d6",
   "metadata": {},
   "source": [
    "### Duplicates & Nulls"
   ]
  },
  {
   "cell_type": "code",
   "execution_count": 5,
   "id": "cb1faacd",
   "metadata": {},
   "outputs": [
    {
     "name": "stdout",
     "output_type": "stream",
     "text": [
      "Number of duplicated rows: 0\n"
     ]
    }
   ],
   "source": [
    "count_dups = df.duplicated().values.sum()\n",
    "print(f'Number of duplicated rows: {count_dups}')"
   ]
  },
  {
   "cell_type": "code",
   "execution_count": 6,
   "id": "3679edce",
   "metadata": {},
   "outputs": [
    {
     "data": {
      "text/plain": [
       "ride_id                    0\n",
       "rideable_type              0\n",
       "started_at                 0\n",
       "ended_at                   0\n",
       "start_station_name    833064\n",
       "start_station_id      833064\n",
       "end_station_name      892742\n",
       "end_station_id        892742\n",
       "start_lat                  0\n",
       "start_lng                  0\n",
       "end_lat                 5858\n",
       "end_lng                 5858\n",
       "member_casual              0\n",
       "dtype: int64"
      ]
     },
     "execution_count": 6,
     "metadata": {},
     "output_type": "execute_result"
    }
   ],
   "source": [
    "df = df.replace(['NaN', 'None', ''], np.nan)\n",
    "count_nulls = df.isnull().sum()\n",
    "count_nulls"
   ]
  },
  {
   "cell_type": "markdown",
   "id": "6e13dd94",
   "metadata": {},
   "source": [
    "#### comment:\n",
    "\n",
    "There are no duplicates. \n",
    "A considerable portion of rides ($\\sim 15\\%$) are missing <font color=blue>station_name</font> and <font color=blue>station_id</font> even though the <span style='background:yellow'>geo location</span> (<font color=blue>lat</font> and <font color=blue>lng</font>) is almost always availible. \n",
    "We presume that in the recent year, 2022, docking a bike at a station was not necessary to end a ride. \n",
    "Thus, a ride could be ended or started at any geo location without a corresponding station. \n",
    "A failed registration of a docking station might also be an option but a number that high is rather unlikely.\n",
    "For some rides ($\\sim 0.1\\%$), there is no information availible regarding the end geo location (malfunctioning?).\n",
    "\n",
    "\n",
    "* The data is <font color=red>not yet reliable</font> and some cleaning might be required\n",
    "* The data is <font color=red>original</font>, since it has been collected by Cyclistic itself (first-party)\n",
    "* The data is <font color=red>comprehensive</font> and contains the crucial feature <font color=blue>'member_casual'</font> to answer one of our business questions\n",
    "* The data is <font color=red>current</font>, since it contains info about the previous year\n",
    "* The data is <font color=red>cited</font> and has been promoted by google and is availible at kaggle"
   ]
  },
  {
   "cell_type": "markdown",
   "id": "a7812bb2",
   "metadata": {},
   "source": [
    "<input type=\"checkbox\" disabled  checked/> A description of all data sources used"
   ]
  },
  {
   "cell_type": "markdown",
   "id": "5d312bb0",
   "metadata": {},
   "source": [
    "## 3. Process Phase"
   ]
  },
  {
   "cell_type": "code",
   "execution_count": 7,
   "id": "087696c8",
   "metadata": {},
   "outputs": [],
   "source": [
    "df_backup = df.copy() # create a backup"
   ]
  },
  {
   "cell_type": "markdown",
   "id": "95a15e39",
   "metadata": {},
   "source": [
    "### 3.1 ride_id\n",
    "\n",
    "check consistency"
   ]
  },
  {
   "cell_type": "code",
   "execution_count": 8,
   "id": "1a817500",
   "metadata": {},
   "outputs": [
    {
     "name": "stdout",
     "output_type": "stream",
     "text": [
      "How many ride_ids deviate from 16 characters? Answer: 0\n"
     ]
    }
   ],
   "source": [
    "ids_len = df['ride_id'].apply(len)\n",
    "print(f'How many ride_ids deviate from 16 characters? Answer: {(ids_len != 16).sum()}')"
   ]
  },
  {
   "cell_type": "markdown",
   "id": "c7dea0ee",
   "metadata": {},
   "source": [
    "### 3.2 rideable_type\n",
    "\n",
    "what is special about docked bikes?"
   ]
  },
  {
   "cell_type": "code",
   "execution_count": 9,
   "id": "e3df511c",
   "metadata": {},
   "outputs": [
    {
     "data": {
      "text/plain": [
       "rideable_type\n",
       "classic_bike     2601214\n",
       "docked_bike       177474\n",
       "electric_bike    2889029\n",
       "Name: rideable_type, dtype: int64"
      ]
     },
     "execution_count": 9,
     "metadata": {},
     "output_type": "execute_result"
    }
   ],
   "source": [
    "df.groupby('rideable_type')['rideable_type'].count() # counting number of rides for each type"
   ]
  },
  {
   "cell_type": "code",
   "execution_count": 10,
   "id": "ee9b9bc4",
   "metadata": {},
   "outputs": [
    {
     "data": {
      "text/html": [
       "<div>\n",
       "<style scoped>\n",
       "    .dataframe tbody tr th:only-of-type {\n",
       "        vertical-align: middle;\n",
       "    }\n",
       "\n",
       "    .dataframe tbody tr th {\n",
       "        vertical-align: top;\n",
       "    }\n",
       "\n",
       "    .dataframe thead th {\n",
       "        text-align: right;\n",
       "    }\n",
       "</style>\n",
       "<table border=\"1\" class=\"dataframe\">\n",
       "  <thead>\n",
       "    <tr style=\"text-align: right;\">\n",
       "      <th></th>\n",
       "      <th>ride_id</th>\n",
       "      <th>started_at</th>\n",
       "      <th>ended_at</th>\n",
       "      <th>start_station_name</th>\n",
       "      <th>start_station_id</th>\n",
       "      <th>end_station_name</th>\n",
       "      <th>end_station_id</th>\n",
       "      <th>start_lat</th>\n",
       "      <th>start_lng</th>\n",
       "      <th>end_lat</th>\n",
       "      <th>end_lng</th>\n",
       "      <th>member_casual</th>\n",
       "    </tr>\n",
       "    <tr>\n",
       "      <th>rideable_type</th>\n",
       "      <th></th>\n",
       "      <th></th>\n",
       "      <th></th>\n",
       "      <th></th>\n",
       "      <th></th>\n",
       "      <th></th>\n",
       "      <th></th>\n",
       "      <th></th>\n",
       "      <th></th>\n",
       "      <th></th>\n",
       "      <th></th>\n",
       "      <th></th>\n",
       "    </tr>\n",
       "  </thead>\n",
       "  <tbody>\n",
       "    <tr>\n",
       "      <th>classic_bike</th>\n",
       "      <td>0</td>\n",
       "      <td>0</td>\n",
       "      <td>0</td>\n",
       "      <td>0</td>\n",
       "      <td>0</td>\n",
       "      <td>3788</td>\n",
       "      <td>3788</td>\n",
       "      <td>0</td>\n",
       "      <td>0</td>\n",
       "      <td>3242</td>\n",
       "      <td>3242</td>\n",
       "      <td>0</td>\n",
       "    </tr>\n",
       "    <tr>\n",
       "      <th>docked_bike</th>\n",
       "      <td>0</td>\n",
       "      <td>0</td>\n",
       "      <td>0</td>\n",
       "      <td>0</td>\n",
       "      <td>0</td>\n",
       "      <td>2616</td>\n",
       "      <td>2616</td>\n",
       "      <td>0</td>\n",
       "      <td>0</td>\n",
       "      <td>2616</td>\n",
       "      <td>2616</td>\n",
       "      <td>0</td>\n",
       "    </tr>\n",
       "    <tr>\n",
       "      <th>electric_bike</th>\n",
       "      <td>0</td>\n",
       "      <td>0</td>\n",
       "      <td>0</td>\n",
       "      <td>833064</td>\n",
       "      <td>833064</td>\n",
       "      <td>886338</td>\n",
       "      <td>886338</td>\n",
       "      <td>0</td>\n",
       "      <td>0</td>\n",
       "      <td>0</td>\n",
       "      <td>0</td>\n",
       "      <td>0</td>\n",
       "    </tr>\n",
       "  </tbody>\n",
       "</table>\n",
       "</div>"
      ],
      "text/plain": [
       "               ride_id  started_at  ended_at  start_station_name  \\\n",
       "rideable_type                                                      \n",
       "classic_bike         0           0         0                   0   \n",
       "docked_bike          0           0         0                   0   \n",
       "electric_bike        0           0         0              833064   \n",
       "\n",
       "               start_station_id  end_station_name  end_station_id  start_lat  \\\n",
       "rideable_type                                                                  \n",
       "classic_bike                  0              3788            3788          0   \n",
       "docked_bike                   0              2616            2616          0   \n",
       "electric_bike            833064            886338          886338          0   \n",
       "\n",
       "               start_lng  end_lat  end_lng  member_casual  \n",
       "rideable_type                                              \n",
       "classic_bike           0     3242     3242              0  \n",
       "docked_bike            0     2616     2616              0  \n",
       "electric_bike          0        0        0              0  "
      ]
     },
     "execution_count": 10,
     "metadata": {},
     "output_type": "execute_result"
    }
   ],
   "source": [
    "filt = df.columns.drop('rideable_type') # all columns except rideable type\n",
    "grouped = df[filt].isnull().groupby(df['rideable_type']).sum() # count nulls for each ride type separately\n",
    "grouped"
   ]
  },
  {
   "cell_type": "markdown",
   "id": "15efcd43",
   "metadata": {},
   "source": [
    "#### <u>Assumption</u>:\n",
    "\n",
    "* electric bikes are indeed not required to be docked at a station. Geo location is always availible for e-bikes.\n",
    "* docked and classic bikes always start at a docking stations. Sometimes, the bikes are not returned (malfunctioning)?\n",
    "\n",
    "We decide to **remove ($\\sim 6000$) data entries with missing <font color=blue>end_station_id</font> values for classic and docked bikes**."
   ]
  },
  {
   "cell_type": "code",
   "execution_count": 11,
   "id": "1f664c34",
   "metadata": {},
   "outputs": [],
   "source": [
    "mask1 = df['rideable_type'].apply(lambda x: x in ['classic_bike', 'docked_bike'])\n",
    "mask2 = df['end_station_id'].isnull()\n",
    "df = df[-(mask1 & mask2)]"
   ]
  },
  {
   "cell_type": "markdown",
   "id": "c4adecef",
   "metadata": {},
   "source": [
    "### 3.2 started_at, ended_at\n",
    "\n",
    "* convert into datetime and sort by <font color=blue>started_at</font>\n",
    "* calculate ride <font color=blue>duration</font> in minutes\n",
    "* extract <font color=blue>daytime</font>(morning, evening)\n",
    "* extract <font color=blue>weekday</font> (Mo,Tu,...) \n",
    "* extract <font color=blue>month</font> (Jan,Feb,...)"
   ]
  },
  {
   "cell_type": "code",
   "execution_count": 12,
   "id": "d02a880b",
   "metadata": {},
   "outputs": [],
   "source": [
    "### convert into datetime\n",
    "df['started_at'] = pd.to_datetime(df['started_at'])\n",
    "df['ended_at'] = pd.to_datetime(df['ended_at'])\n",
    "df = df.sort_values(by=['started_at']).reset_index(drop=True) # chronological sorting"
   ]
  },
  {
   "cell_type": "code",
   "execution_count": 13,
   "id": "ae5dece8",
   "metadata": {},
   "outputs": [
    {
     "name": "stdout",
     "output_type": "stream",
     "text": [
      "There are 121086 rides with duration less than a minute.\n",
      "There are 4440 rides with duration more than 6 hours.\n"
     ]
    }
   ],
   "source": [
    "### ride duration\n",
    "df['duration_min'] = df['ended_at'] - df['started_at']\n",
    "df['duration_min'] = df['duration_min'].dt.total_seconds() / 60 # in minutes\n",
    "\n",
    "mask = (df['duration_min'] < 1)\n",
    "print(f'There are {mask.sum()} rides with duration less than a minute.')\n",
    "df = df[-mask]\n",
    "\n",
    "mask2 = (df['duration_min'] > 60*6)\n",
    "print(f'There are {mask2.sum()} rides with duration more than 6 hours.')\n",
    "df = df[-mask2]"
   ]
  },
  {
   "cell_type": "markdown",
   "id": "64dc5eaa",
   "metadata": {},
   "source": [
    "#### <u>Assumption</u>:\n",
    "\n",
    "We **remove ($\\sim 120.000$) data entries with <font color=blue>duration</font> less than a minute** (potentially false starts or users trying to re-dock a bike to ensure it was secure).\n",
    "\n",
    "We **remove ($\\sim 4.000$) data entries with <font color=blue>duration</font> more than 6 hours** (anything beyond is a physically extreme cycling)."
   ]
  },
  {
   "cell_type": "code",
   "execution_count": 14,
   "id": "7e4dbc46",
   "metadata": {},
   "outputs": [],
   "source": [
    "### extract daytime\n",
    "def daytime(hour):\n",
    "    if (5 <= hour) and (hour < 12):\n",
    "        return \"morning\"\n",
    "    if (12 <= hour) and (hour < 17):\n",
    "        return \"noon\"\n",
    "    if (17 <= hour) and (hour < 21):\n",
    "        return \"evening\"\n",
    "    else:\n",
    "        return \"night\"\n",
    "    \n",
    "df['started_at_daytime'] = df['started_at'].dt.hour.apply(daytime)"
   ]
  },
  {
   "cell_type": "code",
   "execution_count": 15,
   "id": "1ec7c1a9",
   "metadata": {},
   "outputs": [],
   "source": [
    "### extract weekday\n",
    "df['started_at_weekday'] = df['started_at'].dt.day_name().str[:2]"
   ]
  },
  {
   "cell_type": "code",
   "execution_count": 16,
   "id": "e73a1294",
   "metadata": {},
   "outputs": [],
   "source": [
    "### extract month\n",
    "df['started_at_month'] = df['started_at'].dt.month_name().str[:3]"
   ]
  },
  {
   "cell_type": "markdown",
   "id": "f2c70596",
   "metadata": {},
   "source": [
    "### 3.3 start_location, end_location\n",
    "\n",
    "Geo location data points, lat and lng, might be grouped into several clusters algorithmically, e.g. by k-means clustering, or geographically, e.g. by assignment to community areas of Chicago, see [here](https://chicagomap360.com/chicago-neighborhood-map) and the map below. \n",
    "We decide to do the latter.\n",
    "\n",
    "#### <u>Assumption</u>:\n",
    "\n",
    "Station names or ids are not particularly useful for drawing insights, especially considering that e-bikes do not need to be docked in the first place. \n",
    "We decide to remove this info."
   ]
  },
  {
   "cell_type": "code",
   "execution_count": 17,
   "id": "edc776ab",
   "metadata": {},
   "outputs": [],
   "source": [
    "df = df.drop(columns = ['start_station_name', 'start_station_id', 'end_station_name', 'end_station_id'])"
   ]
  },
  {
   "cell_type": "markdown",
   "id": "1d981dfe",
   "metadata": {},
   "source": [
    "#### Mapping geo location to community areas:\n",
    "\n",
    "First, let us import data on geographical boundaries of community areas which can be found [here](https://data.cityofchicago.org/Facilities-Geographic-Boundaries/Boundaries-Community-Areas-current-/cauq-8yn6). \n",
    "The GeoJSON file contains multipolygon objects.\n",
    "To work with such objects, we require the **geopandas** library."
   ]
  },
  {
   "cell_type": "code",
   "execution_count": 18,
   "id": "41e87014",
   "metadata": {},
   "outputs": [
    {
     "data": {
      "text/html": [
       "<div>\n",
       "<style scoped>\n",
       "    .dataframe tbody tr th:only-of-type {\n",
       "        vertical-align: middle;\n",
       "    }\n",
       "\n",
       "    .dataframe tbody tr th {\n",
       "        vertical-align: top;\n",
       "    }\n",
       "\n",
       "    .dataframe thead th {\n",
       "        text-align: right;\n",
       "    }\n",
       "</style>\n",
       "<table border=\"1\" class=\"dataframe\">\n",
       "  <thead>\n",
       "    <tr style=\"text-align: right;\">\n",
       "      <th></th>\n",
       "      <th>community</th>\n",
       "      <th>area</th>\n",
       "      <th>shape_area</th>\n",
       "      <th>perimeter</th>\n",
       "      <th>area_num_1</th>\n",
       "      <th>area_numbe</th>\n",
       "      <th>comarea_id</th>\n",
       "      <th>comarea</th>\n",
       "      <th>shape_len</th>\n",
       "      <th>geometry</th>\n",
       "    </tr>\n",
       "  </thead>\n",
       "  <tbody>\n",
       "    <tr>\n",
       "      <th>0</th>\n",
       "      <td>DOUGLAS</td>\n",
       "      <td>0</td>\n",
       "      <td>46004621.1581</td>\n",
       "      <td>0</td>\n",
       "      <td>35</td>\n",
       "      <td>35</td>\n",
       "      <td>0</td>\n",
       "      <td>0</td>\n",
       "      <td>31027.0545098</td>\n",
       "      <td>MULTIPOLYGON (((-87.60914 41.84469, -87.60915 ...</td>\n",
       "    </tr>\n",
       "    <tr>\n",
       "      <th>1</th>\n",
       "      <td>OAKLAND</td>\n",
       "      <td>0</td>\n",
       "      <td>16913961.0408</td>\n",
       "      <td>0</td>\n",
       "      <td>36</td>\n",
       "      <td>36</td>\n",
       "      <td>0</td>\n",
       "      <td>0</td>\n",
       "      <td>19565.5061533</td>\n",
       "      <td>MULTIPOLYGON (((-87.59215 41.81693, -87.59231 ...</td>\n",
       "    </tr>\n",
       "  </tbody>\n",
       "</table>\n",
       "</div>"
      ],
      "text/plain": [
       "  community area     shape_area perimeter area_num_1 area_numbe comarea_id  \\\n",
       "0   DOUGLAS    0  46004621.1581         0         35         35          0   \n",
       "1   OAKLAND    0  16913961.0408         0         36         36          0   \n",
       "\n",
       "  comarea      shape_len                                           geometry  \n",
       "0       0  31027.0545098  MULTIPOLYGON (((-87.60914 41.84469, -87.60915 ...  \n",
       "1       0  19565.5061533  MULTIPOLYGON (((-87.59215 41.81693, -87.59231 ...  "
      ]
     },
     "execution_count": 18,
     "metadata": {},
     "output_type": "execute_result"
    }
   ],
   "source": [
    "areas = gpd.read_file('chicago_areas.geojson')\n",
    "areas.head(2)"
   ]
  },
  {
   "cell_type": "markdown",
   "id": "f6dc0ac1",
   "metadata": {},
   "source": [
    "<img src=\"chicago_map.png\" width=\"500\">"
   ]
  },
  {
   "cell_type": "code",
   "execution_count": 19,
   "id": "1508417d",
   "metadata": {},
   "outputs": [
    {
     "data": {
      "text/html": [
       "<div>\n",
       "<style scoped>\n",
       "    .dataframe tbody tr th:only-of-type {\n",
       "        vertical-align: middle;\n",
       "    }\n",
       "\n",
       "    .dataframe tbody tr th {\n",
       "        vertical-align: top;\n",
       "    }\n",
       "\n",
       "    .dataframe thead th {\n",
       "        text-align: right;\n",
       "    }\n",
       "</style>\n",
       "<table border=\"1\" class=\"dataframe\">\n",
       "  <thead>\n",
       "    <tr style=\"text-align: right;\">\n",
       "      <th></th>\n",
       "      <th>geometry</th>\n",
       "      <th>community</th>\n",
       "    </tr>\n",
       "  </thead>\n",
       "  <tbody>\n",
       "    <tr>\n",
       "      <th>0</th>\n",
       "      <td>MULTIPOLYGON (((-87.60914 41.84469, -87.60915 ...</td>\n",
       "      <td>DOUGLAS</td>\n",
       "    </tr>\n",
       "    <tr>\n",
       "      <th>1</th>\n",
       "      <td>MULTIPOLYGON (((-87.59215 41.81693, -87.59231 ...</td>\n",
       "      <td>OAKLAND</td>\n",
       "    </tr>\n",
       "  </tbody>\n",
       "</table>\n",
       "</div>"
      ],
      "text/plain": [
       "                                            geometry community\n",
       "0  MULTIPOLYGON (((-87.60914 41.84469, -87.60915 ...   DOUGLAS\n",
       "1  MULTIPOLYGON (((-87.59215 41.81693, -87.59231 ...   OAKLAND"
      ]
     },
     "execution_count": 19,
     "metadata": {},
     "output_type": "execute_result"
    }
   ],
   "source": [
    "### We are only interested in geo data and the corresponding community labels\n",
    "areas = areas[['geometry', 'community']]\n",
    "areas.head(2)"
   ]
  },
  {
   "cell_type": "code",
   "execution_count": 20,
   "id": "28063431",
   "metadata": {},
   "outputs": [],
   "source": [
    "### convert (lng, lat)-pairs into point objects\n",
    "df['start_points'] = gpd.points_from_xy(df['start_lng'], df['start_lat'])\n",
    "df['end_points'] = gpd.points_from_xy(df['end_lng'], df['end_lat'])"
   ]
  },
  {
   "cell_type": "code",
   "execution_count": 21,
   "id": "f1a6e441",
   "metadata": {},
   "outputs": [
    {
     "data": {
      "application/vnd.jupyter.widget-view+json": {
       "model_id": "8ba38d5a3ff94d33b8dcda3468fb5ac1",
       "version_major": 2,
       "version_minor": 0
      },
      "text/plain": [
       "  0%|          | 0/5535787 [00:00<?, ?it/s]"
      ]
     },
     "metadata": {},
     "output_type": "display_data"
    },
    {
     "data": {
      "application/vnd.jupyter.widget-view+json": {
       "model_id": "97a826ede290409fba3833e98ee393e1",
       "version_major": 2,
       "version_minor": 0
      },
      "text/plain": [
       "  0%|          | 0/5535787 [00:00<?, ?it/s]"
      ]
     },
     "metadata": {},
     "output_type": "display_data"
    }
   ],
   "source": [
    "### convert geo points into community labels (remark: it takes a long time to process!)\n",
    "def return_area(geo_point):\n",
    "    '''\n",
    "    Parameters\n",
    "    ----------\n",
    "    geo_point : object\n",
    "    \n",
    "\n",
    "    Returns\n",
    "    -------\n",
    "    string : area name\n",
    "    '''\n",
    "    _match = areas[areas['geometry'].contains(geo_point)] # area which contains the geo point\n",
    "    if _match.shape[0] == 0: # outside chicago?\n",
    "        return 'OUTSIDE'\n",
    "    if _match.shape[0] > 1: # ambigious point? (area border)?\n",
    "        print('Ambiguity at ({geo_point}) !')\n",
    "    return _match['community'].iloc[0]\n",
    "\n",
    "df['start_area'] = df['start_points'].progress_apply(return_area)\n",
    "df['end_area'] = df['end_points'].progress_apply(return_area)"
   ]
  },
  {
   "cell_type": "code",
   "execution_count": 22,
   "id": "84c2a025",
   "metadata": {},
   "outputs": [],
   "source": [
    "### the columns below are no longer needed\n",
    "df = df.drop(columns = ['start_points', 'start_lng', 'start_lat', 'end_points', 'end_lng', 'end_lat'])"
   ]
  },
  {
   "cell_type": "markdown",
   "id": "71a4c622",
   "metadata": {},
   "source": [
    "#### Save cleaned data"
   ]
  },
  {
   "cell_type": "code",
   "execution_count": 23,
   "id": "ed5b32b1",
   "metadata": {},
   "outputs": [],
   "source": [
    "df.to_csv('data_clean.csv', index=False)"
   ]
  },
  {
   "cell_type": "markdown",
   "id": "f326a5b1",
   "metadata": {},
   "source": [
    "<input type=\"checkbox\" disabled  checked/> Documentation of any cleaning or manipulation of data"
   ]
  },
  {
   "cell_type": "markdown",
   "id": "bc890546",
   "metadata": {},
   "source": [
    "## 4. Analysis"
   ]
  },
  {
   "cell_type": "markdown",
   "id": "a506f5e9",
   "metadata": {},
   "source": [
    "### Load cleaned data"
   ]
  },
  {
   "cell_type": "code",
   "execution_count": 24,
   "id": "94393e30",
   "metadata": {},
   "outputs": [],
   "source": [
    "parts = [f'./data_clean/data_clean_part{part:02d}.csv' for part in range(30)]\n",
    "df = pd.concat(map(pd.read_csv, parts), ignore_index=True)"
   ]
  },
  {
   "cell_type": "code",
   "execution_count": 25,
   "id": "0ed096d8",
   "metadata": {},
   "outputs": [
    {
     "name": "stdout",
     "output_type": "stream",
     "text": [
      "Number of rows: 5535787 and columns: 11\n",
      "ride_id                object\n",
      "rideable_type          object\n",
      "started_at             object\n",
      "ended_at               object\n",
      "member_casual          object\n",
      "duration_min          float64\n",
      "started_at_daytime     object\n",
      "started_at_weekday     object\n",
      "started_at_month       object\n",
      "start_area             object\n",
      "end_area               object\n",
      "dtype: object\n"
     ]
    },
    {
     "data": {
      "text/html": [
       "<div>\n",
       "<style scoped>\n",
       "    .dataframe tbody tr th:only-of-type {\n",
       "        vertical-align: middle;\n",
       "    }\n",
       "\n",
       "    .dataframe tbody tr th {\n",
       "        vertical-align: top;\n",
       "    }\n",
       "\n",
       "    .dataframe thead th {\n",
       "        text-align: right;\n",
       "    }\n",
       "</style>\n",
       "<table border=\"1\" class=\"dataframe\">\n",
       "  <thead>\n",
       "    <tr style=\"text-align: right;\">\n",
       "      <th></th>\n",
       "      <th>ride_id</th>\n",
       "      <th>rideable_type</th>\n",
       "      <th>started_at</th>\n",
       "      <th>ended_at</th>\n",
       "      <th>member_casual</th>\n",
       "      <th>duration_min</th>\n",
       "      <th>started_at_daytime</th>\n",
       "      <th>started_at_weekday</th>\n",
       "      <th>started_at_month</th>\n",
       "      <th>start_area</th>\n",
       "      <th>end_area</th>\n",
       "    </tr>\n",
       "  </thead>\n",
       "  <tbody>\n",
       "    <tr>\n",
       "      <th>0</th>\n",
       "      <td>98D355D9A9852BE9</td>\n",
       "      <td>classic_bike</td>\n",
       "      <td>2022-01-01 00:00:05</td>\n",
       "      <td>2022-01-01 00:01:48</td>\n",
       "      <td>casual</td>\n",
       "      <td>1.72</td>\n",
       "      <td>night</td>\n",
       "      <td>Sa</td>\n",
       "      <td>Jan</td>\n",
       "      <td>LOOP</td>\n",
       "      <td>LOOP</td>\n",
       "    </tr>\n",
       "    <tr>\n",
       "      <th>1</th>\n",
       "      <td>04706CA7F5BD25EE</td>\n",
       "      <td>electric_bike</td>\n",
       "      <td>2022-01-01 00:01:00</td>\n",
       "      <td>2022-01-01 00:04:39</td>\n",
       "      <td>casual</td>\n",
       "      <td>3.65</td>\n",
       "      <td>night</td>\n",
       "      <td>Sa</td>\n",
       "      <td>Jan</td>\n",
       "      <td>LAKE VIEW</td>\n",
       "      <td>LAKE VIEW</td>\n",
       "    </tr>\n",
       "    <tr>\n",
       "      <th>2</th>\n",
       "      <td>42178E850B92597A</td>\n",
       "      <td>electric_bike</td>\n",
       "      <td>2022-01-01 00:01:16</td>\n",
       "      <td>2022-01-01 00:32:14</td>\n",
       "      <td>casual</td>\n",
       "      <td>30.97</td>\n",
       "      <td>night</td>\n",
       "      <td>Sa</td>\n",
       "      <td>Jan</td>\n",
       "      <td>LOOP</td>\n",
       "      <td>LOOP</td>\n",
       "    </tr>\n",
       "    <tr>\n",
       "      <th>3</th>\n",
       "      <td>6B93C46E8F5B114C</td>\n",
       "      <td>classic_bike</td>\n",
       "      <td>2022-01-01 00:02:14</td>\n",
       "      <td>2022-01-01 00:31:07</td>\n",
       "      <td>casual</td>\n",
       "      <td>28.88</td>\n",
       "      <td>night</td>\n",
       "      <td>Sa</td>\n",
       "      <td>Jan</td>\n",
       "      <td>LOOP</td>\n",
       "      <td>LOOP</td>\n",
       "    </tr>\n",
       "    <tr>\n",
       "      <th>4</th>\n",
       "      <td>466943353EAC8022</td>\n",
       "      <td>classic_bike</td>\n",
       "      <td>2022-01-01 00:02:35</td>\n",
       "      <td>2022-01-01 00:31:04</td>\n",
       "      <td>casual</td>\n",
       "      <td>28.48</td>\n",
       "      <td>night</td>\n",
       "      <td>Sa</td>\n",
       "      <td>Jan</td>\n",
       "      <td>LOOP</td>\n",
       "      <td>LOOP</td>\n",
       "    </tr>\n",
       "  </tbody>\n",
       "</table>\n",
       "</div>"
      ],
      "text/plain": [
       "            ride_id  rideable_type           started_at             ended_at  \\\n",
       "0  98D355D9A9852BE9   classic_bike  2022-01-01 00:00:05  2022-01-01 00:01:48   \n",
       "1  04706CA7F5BD25EE  electric_bike  2022-01-01 00:01:00  2022-01-01 00:04:39   \n",
       "2  42178E850B92597A  electric_bike  2022-01-01 00:01:16  2022-01-01 00:32:14   \n",
       "3  6B93C46E8F5B114C   classic_bike  2022-01-01 00:02:14  2022-01-01 00:31:07   \n",
       "4  466943353EAC8022   classic_bike  2022-01-01 00:02:35  2022-01-01 00:31:04   \n",
       "\n",
       "  member_casual  duration_min started_at_daytime started_at_weekday  \\\n",
       "0        casual          1.72              night                 Sa   \n",
       "1        casual          3.65              night                 Sa   \n",
       "2        casual         30.97              night                 Sa   \n",
       "3        casual         28.88              night                 Sa   \n",
       "4        casual         28.48              night                 Sa   \n",
       "\n",
       "  started_at_month start_area   end_area  \n",
       "0              Jan       LOOP       LOOP  \n",
       "1              Jan  LAKE VIEW  LAKE VIEW  \n",
       "2              Jan       LOOP       LOOP  \n",
       "3              Jan       LOOP       LOOP  \n",
       "4              Jan       LOOP       LOOP  "
      ]
     },
     "execution_count": 25,
     "metadata": {},
     "output_type": "execute_result"
    }
   ],
   "source": [
    "m, n = df.shape\n",
    "print(f'Number of rows: {m} and columns: {n}')\n",
    "print(df.dtypes)\n",
    "df.head(5)"
   ]
  },
  {
   "cell_type": "markdown",
   "id": "a6a21d0c",
   "metadata": {},
   "source": [
    "### 4.1 Bike types\n",
    "\n",
    "How does <span style='background:yellow'>the number of rides</span> and <span style='background:yellow'>mean ride duration</span> differs between <font color=blue>members/casuals</font> for different <font color=blue>bike types</font>."
   ]
  },
  {
   "cell_type": "code",
   "execution_count": 26,
   "id": "11abf292",
   "metadata": {},
   "outputs": [
    {
     "data": {
      "text/html": [
       "<div>\n",
       "<style scoped>\n",
       "    .dataframe tbody tr th:only-of-type {\n",
       "        vertical-align: middle;\n",
       "    }\n",
       "\n",
       "    .dataframe tbody tr th {\n",
       "        vertical-align: top;\n",
       "    }\n",
       "\n",
       "    .dataframe thead tr th {\n",
       "        text-align: left;\n",
       "    }\n",
       "\n",
       "    .dataframe thead tr:last-of-type th {\n",
       "        text-align: right;\n",
       "    }\n",
       "</style>\n",
       "<table border=\"1\" class=\"dataframe\">\n",
       "  <thead>\n",
       "    <tr>\n",
       "      <th></th>\n",
       "      <th colspan=\"3\" halign=\"left\">count</th>\n",
       "      <th colspan=\"3\" halign=\"left\">mean</th>\n",
       "    </tr>\n",
       "    <tr>\n",
       "      <th>rideable_type</th>\n",
       "      <th>classic_bike</th>\n",
       "      <th>docked_bike</th>\n",
       "      <th>electric_bike</th>\n",
       "      <th>classic_bike</th>\n",
       "      <th>docked_bike</th>\n",
       "      <th>electric_bike</th>\n",
       "    </tr>\n",
       "    <tr>\n",
       "      <th>member_casual</th>\n",
       "      <th></th>\n",
       "      <th></th>\n",
       "      <th></th>\n",
       "      <th></th>\n",
       "      <th></th>\n",
       "      <th></th>\n",
       "    </tr>\n",
       "  </thead>\n",
       "  <tbody>\n",
       "    <tr>\n",
       "      <th>casual</th>\n",
       "      <td>874236.00</td>\n",
       "      <td>171918.00</td>\n",
       "      <td>1219408.00</td>\n",
       "      <td>23.33</td>\n",
       "      <td>43.28</td>\n",
       "      <td>16.58</td>\n",
       "    </tr>\n",
       "    <tr>\n",
       "      <th>member</th>\n",
       "      <td>1682060.00</td>\n",
       "      <td>NaN</td>\n",
       "      <td>1588165.00</td>\n",
       "      <td>13.05</td>\n",
       "      <td>NaN</td>\n",
       "      <td>11.71</td>\n",
       "    </tr>\n",
       "  </tbody>\n",
       "</table>\n",
       "</div>"
      ],
      "text/plain": [
       "                     count                                   mean              \\\n",
       "rideable_type classic_bike docked_bike electric_bike classic_bike docked_bike   \n",
       "member_casual                                                                   \n",
       "casual           874236.00   171918.00    1219408.00        23.33       43.28   \n",
       "member          1682060.00         NaN    1588165.00        13.05         NaN   \n",
       "\n",
       "                             \n",
       "rideable_type electric_bike  \n",
       "member_casual                \n",
       "casual                16.58  \n",
       "member                11.71  "
      ]
     },
     "execution_count": 26,
     "metadata": {},
     "output_type": "execute_result"
    }
   ],
   "source": [
    "pivot = df.pivot_table(index='member_casual', columns='rideable_type', values='duration_min', aggfunc=['count', 'mean'])\n",
    "pivot"
   ]
  },
  {
   "cell_type": "code",
   "execution_count": 27,
   "id": "34dc86a5",
   "metadata": {},
   "outputs": [
    {
     "data": {
      "image/png": "[encoded data removed]",
      "text/plain": [
       "<Figure size 864x360 with 2 Axes>"
      ]
     },
     "metadata": {
      "needs_background": "light"
     },
     "output_type": "display_data"
    }
   ],
   "source": [
    "fig, (ax1, ax2) = plt.subplots(1,2)\n",
    "fig.set_size_inches(12, 5)\n",
    "ax1 = pivot['count'].plot.bar(stacked=True, ax=ax1)\n",
    "ax2 = pivot['mean'].plot.bar(stacked=False, ax=ax2)\n",
    "ax1.set_ylabel('count')\n",
    "ax2.set_ylabel('mean_duration [min]')\n",
    "ax1.set_title('# rides vs rider status for different bike types')\n",
    "ax2.set_title('mean ride duration (in minutes) vs rider status for different bike types')\n",
    "fig.tight_layout()"
   ]
  },
  {
   "cell_type": "markdown",
   "id": "bea82cf2",
   "metadata": {},
   "source": [
    "#### <u>Description</u>:\n",
    "\n",
    "* Members use bikes of any type more often than Casuals (left Figure), whereas Casuals ride on average longer than Members (right Figure.\n",
    "* Casuals favour electric over classic, whereas Members favour classic over electric slightly more (left Figure).\n",
    "* Members do not use docked bikes at all.\n",
    "* Docked bikes are used by Casuals least often (left Figure), but the rides on docked bikes are on average the longest (right Figure)."
   ]
  },
  {
   "cell_type": "markdown",
   "id": "25a4f0d8",
   "metadata": {},
   "source": [
    "### 4.2 Ride duration\n",
    "\n",
    "Let us continue by analyzing how ride duration differs between members and casuals."
   ]
  },
  {
   "cell_type": "code",
   "execution_count": 28,
   "id": "575ce06b",
   "metadata": {},
   "outputs": [
    {
     "data": {
      "text/plain": [
       "count   5535787.00\n",
       "mean         16.00\n",
       "std          19.42\n",
       "min           1.00\n",
       "5%            2.85\n",
       "25%           6.07\n",
       "50%          10.50\n",
       "75%          18.67\n",
       "95%          45.05\n",
       "max         359.88\n",
       "Name: duration_min, dtype: float64"
      ]
     },
     "execution_count": 28,
     "metadata": {},
     "output_type": "execute_result"
    }
   ],
   "source": [
    "df['duration_min'].describe(percentiles = [.05, .25, .5, .75, .95])"
   ]
  },
  {
   "cell_type": "markdown",
   "id": "318fbbca",
   "metadata": {},
   "source": [
    "<u>Note:</u> remember that we filtered our data such as ride durations (in minutes) lie in the time interval $[1,360]$."
   ]
  },
  {
   "cell_type": "code",
   "execution_count": 29,
   "id": "ad0780a4",
   "metadata": {},
   "outputs": [
    {
     "name": "stdout",
     "output_type": "stream",
     "text": [
      "fraction of rides with duration more than an hour: 2.89%\n"
     ]
    }
   ],
   "source": [
    "### percentage of outliers\n",
    "mask = df['duration_min'] > 60\n",
    "more_hour = df[mask]['duration_min'].count()\n",
    "print(f'fraction of rides with duration more than an hour: {100*more_hour/m:.02f}%')"
   ]
  },
  {
   "cell_type": "code",
   "execution_count": 30,
   "id": "8fff334a",
   "metadata": {},
   "outputs": [
    {
     "data": {
      "image/png": "[encoded data removed]",
      "text/plain": [
       "<Figure size 432x288 with 1 Axes>"
      ]
     },
     "metadata": {
      "needs_background": "light"
     },
     "output_type": "display_data"
    }
   ],
   "source": [
    "fig, ax = plt.subplots()\n",
    "box = df.boxplot(column=['duration_min'], ax=ax, showfliers=False, whis=[5,95])\n",
    "ax.margins(y=0.05)\n",
    "plt.show()"
   ]
  },
  {
   "cell_type": "markdown",
   "id": "f37239dd",
   "metadata": {},
   "source": [
    "#### <u>Description</u>:\n",
    "\n",
    "* A single ride takes on average **16** minutes. \n",
    "* The standard deviation is large owing to outliers with long durations. \n",
    "* The majority of rides ($90\\%$) are between **3** and **45** minutes."
   ]
  },
  {
   "cell_type": "code",
   "execution_count": 31,
   "id": "ba8bee9f",
   "metadata": {},
   "outputs": [
    {
     "data": {
      "text/html": [
       "<div>\n",
       "<style scoped>\n",
       "    .dataframe tbody tr th:only-of-type {\n",
       "        vertical-align: middle;\n",
       "    }\n",
       "\n",
       "    .dataframe tbody tr th {\n",
       "        vertical-align: top;\n",
       "    }\n",
       "\n",
       "    .dataframe thead th {\n",
       "        text-align: right;\n",
       "    }\n",
       "</style>\n",
       "<table border=\"1\" class=\"dataframe\">\n",
       "  <thead>\n",
       "    <tr style=\"text-align: right;\">\n",
       "      <th></th>\n",
       "      <th>count</th>\n",
       "      <th>mean</th>\n",
       "      <th>std</th>\n",
       "      <th>min</th>\n",
       "      <th>5%</th>\n",
       "      <th>25%</th>\n",
       "      <th>50%</th>\n",
       "      <th>75%</th>\n",
       "      <th>95%</th>\n",
       "      <th>max</th>\n",
       "    </tr>\n",
       "    <tr>\n",
       "      <th>member_casual</th>\n",
       "      <th></th>\n",
       "      <th></th>\n",
       "      <th></th>\n",
       "      <th></th>\n",
       "      <th></th>\n",
       "      <th></th>\n",
       "      <th></th>\n",
       "      <th></th>\n",
       "      <th></th>\n",
       "      <th></th>\n",
       "    </tr>\n",
       "  </thead>\n",
       "  <tbody>\n",
       "    <tr>\n",
       "      <th>casual</th>\n",
       "      <td>2265562.00</td>\n",
       "      <td>21.21</td>\n",
       "      <td>25.49</td>\n",
       "      <td>1.00</td>\n",
       "      <td>3.48</td>\n",
       "      <td>7.62</td>\n",
       "      <td>13.25</td>\n",
       "      <td>24.28</td>\n",
       "      <td>66.83</td>\n",
       "      <td>359.88</td>\n",
       "    </tr>\n",
       "    <tr>\n",
       "      <th>member</th>\n",
       "      <td>3270225.00</td>\n",
       "      <td>12.40</td>\n",
       "      <td>12.51</td>\n",
       "      <td>1.00</td>\n",
       "      <td>2.60</td>\n",
       "      <td>5.32</td>\n",
       "      <td>9.02</td>\n",
       "      <td>15.47</td>\n",
       "      <td>32.78</td>\n",
       "      <td>359.68</td>\n",
       "    </tr>\n",
       "  </tbody>\n",
       "</table>\n",
       "</div>"
      ],
      "text/plain": [
       "                   count  mean   std  min   5%  25%   50%   75%   95%    max\n",
       "member_casual                                                               \n",
       "casual        2265562.00 21.21 25.49 1.00 3.48 7.62 13.25 24.28 66.83 359.88\n",
       "member        3270225.00 12.40 12.51 1.00 2.60 5.32  9.02 15.47 32.78 359.68"
      ]
     },
     "execution_count": 31,
     "metadata": {},
     "output_type": "execute_result"
    }
   ],
   "source": [
    "df.groupby('member_casual')['duration_min'].describe(percentiles = [.05, .25, .5, .75, .95])"
   ]
  },
  {
   "cell_type": "markdown",
   "id": "75ae8aee",
   "metadata": {},
   "source": [
    "#### <u>Description</u>:\n",
    "\n",
    "* Casuals ride on average 10 minutes longer than Members.\n",
    "* for Casuals the majority of rides ($90\\%$) are between **4** and **67** minutes.\n",
    "* for Members the majority of rides ($90\\%$) are between **3** and **33** minutes."
   ]
  },
  {
   "cell_type": "markdown",
   "id": "447cc7f4",
   "metadata": {},
   "source": [
    "### 4.3 Month statistics\n",
    "\n",
    "How does <span style='background:yellow'>the number of rides</span> and <span style='background:yellow'>mean ride duration</span> differs between <font color=blue>members/casuals</font> for different <font color=blue>months</font>."
   ]
  },
  {
   "cell_type": "code",
   "execution_count": 32,
   "id": "5db0251e",
   "metadata": {},
   "outputs": [
    {
     "data": {
      "text/plain": [
       "started_at_month\n",
       "Jul    804080\n",
       "Aug    766972\n",
       "Jun    752027\n",
       "Sep    684582\n",
       "May    621096\n",
       "Oct    544715\n",
       "Apr    363313\n",
       "Nov    329607\n",
       "Mar    278372\n",
       "Dec    176787\n",
       "Feb    112765\n",
       "Jan    101471\n",
       "Name: started_at_month, dtype: int64"
      ]
     },
     "execution_count": 32,
     "metadata": {},
     "output_type": "execute_result"
    }
   ],
   "source": [
    "month_counts = df.groupby(by='started_at_month')['started_at_month'].count()\n",
    "month_counts = month_counts.sort_values(ascending=False)\n",
    "month_counts"
   ]
  },
  {
   "cell_type": "code",
   "execution_count": 33,
   "id": "4599ab60",
   "metadata": {},
   "outputs": [
    {
     "name": "stdout",
     "output_type": "stream",
     "text": [
      "High usage months are: ['Jul', 'Aug', 'Jun'] and they amount to 41.96% of all rides\n",
      "Low usage months are: ['Dec', 'Feb', 'Jan'] and they amount to 7.06% of all rides\n"
     ]
    }
   ],
   "source": [
    "month_top = list(month_counts[:3].keys().values)\n",
    "month_bottom = list(month_counts[-3:].keys().values)\n",
    "\n",
    "print(f'High usage months are: {month_top} and they amount to {100*month_counts[:3].sum()/m:.2f}% of all rides')\n",
    "print(f'Low usage months are: {month_bottom} and they amount to {100*month_counts[-3:].sum()/m:.2f}% of all rides')"
   ]
  },
  {
   "cell_type": "code",
   "execution_count": 34,
   "id": "ce2c3570",
   "metadata": {},
   "outputs": [
    {
     "data": {
      "text/html": [
       "<div>\n",
       "<style scoped>\n",
       "    .dataframe tbody tr th:only-of-type {\n",
       "        vertical-align: middle;\n",
       "    }\n",
       "\n",
       "    .dataframe tbody tr th {\n",
       "        vertical-align: top;\n",
       "    }\n",
       "\n",
       "    .dataframe thead tr th {\n",
       "        text-align: left;\n",
       "    }\n",
       "\n",
       "    .dataframe thead tr:last-of-type th {\n",
       "        text-align: right;\n",
       "    }\n",
       "</style>\n",
       "<table border=\"1\" class=\"dataframe\">\n",
       "  <thead>\n",
       "    <tr>\n",
       "      <th></th>\n",
       "      <th colspan=\"2\" halign=\"left\">count</th>\n",
       "      <th colspan=\"2\" halign=\"left\">mean</th>\n",
       "    </tr>\n",
       "    <tr>\n",
       "      <th>member_casual</th>\n",
       "      <th>casual</th>\n",
       "      <th>member</th>\n",
       "      <th>casual</th>\n",
       "      <th>member</th>\n",
       "    </tr>\n",
       "    <tr>\n",
       "      <th>started_at_month</th>\n",
       "      <th></th>\n",
       "      <th></th>\n",
       "      <th></th>\n",
       "      <th></th>\n",
       "    </tr>\n",
       "  </thead>\n",
       "  <tbody>\n",
       "    <tr>\n",
       "      <th>Jan</th>\n",
       "      <td>18017</td>\n",
       "      <td>83454</td>\n",
       "      <td>15.96</td>\n",
       "      <td>10.54</td>\n",
       "    </tr>\n",
       "    <tr>\n",
       "      <th>Feb</th>\n",
       "      <td>20867</td>\n",
       "      <td>91898</td>\n",
       "      <td>18.55</td>\n",
       "      <td>10.77</td>\n",
       "    </tr>\n",
       "    <tr>\n",
       "      <th>Mar</th>\n",
       "      <td>87891</td>\n",
       "      <td>190481</td>\n",
       "      <td>22.82</td>\n",
       "      <td>11.59</td>\n",
       "    </tr>\n",
       "    <tr>\n",
       "      <th>Apr</th>\n",
       "      <td>123558</td>\n",
       "      <td>239755</td>\n",
       "      <td>22.26</td>\n",
       "      <td>11.34</td>\n",
       "    </tr>\n",
       "    <tr>\n",
       "      <th>May</th>\n",
       "      <td>273945</td>\n",
       "      <td>347151</td>\n",
       "      <td>24.57</td>\n",
       "      <td>13.13</td>\n",
       "    </tr>\n",
       "    <tr>\n",
       "      <th>Jun</th>\n",
       "      <td>360377</td>\n",
       "      <td>391650</td>\n",
       "      <td>22.71</td>\n",
       "      <td>13.68</td>\n",
       "    </tr>\n",
       "    <tr>\n",
       "      <th>Jul</th>\n",
       "      <td>396237</td>\n",
       "      <td>407843</td>\n",
       "      <td>22.70</td>\n",
       "      <td>13.58</td>\n",
       "    </tr>\n",
       "    <tr>\n",
       "      <th>Aug</th>\n",
       "      <td>349983</td>\n",
       "      <td>416989</td>\n",
       "      <td>21.03</td>\n",
       "      <td>13.17</td>\n",
       "    </tr>\n",
       "    <tr>\n",
       "      <th>Sep</th>\n",
       "      <td>289416</td>\n",
       "      <td>395166</td>\n",
       "      <td>19.53</td>\n",
       "      <td>12.64</td>\n",
       "    </tr>\n",
       "    <tr>\n",
       "      <th>Oct</th>\n",
       "      <td>203607</td>\n",
       "      <td>341108</td>\n",
       "      <td>18.03</td>\n",
       "      <td>11.50</td>\n",
       "    </tr>\n",
       "    <tr>\n",
       "      <th>Nov</th>\n",
       "      <td>98084</td>\n",
       "      <td>231523</td>\n",
       "      <td>15.00</td>\n",
       "      <td>10.79</td>\n",
       "    </tr>\n",
       "    <tr>\n",
       "      <th>Dec</th>\n",
       "      <td>43580</td>\n",
       "      <td>133207</td>\n",
       "      <td>12.63</td>\n",
       "      <td>10.36</td>\n",
       "    </tr>\n",
       "  </tbody>\n",
       "</table>\n",
       "</div>"
      ],
      "text/plain": [
       "                   count           mean       \n",
       "member_casual     casual  member casual member\n",
       "started_at_month                              \n",
       "Jan                18017   83454  15.96  10.54\n",
       "Feb                20867   91898  18.55  10.77\n",
       "Mar                87891  190481  22.82  11.59\n",
       "Apr               123558  239755  22.26  11.34\n",
       "May               273945  347151  24.57  13.13\n",
       "Jun               360377  391650  22.71  13.68\n",
       "Jul               396237  407843  22.70  13.58\n",
       "Aug               349983  416989  21.03  13.17\n",
       "Sep               289416  395166  19.53  12.64\n",
       "Oct               203607  341108  18.03  11.50\n",
       "Nov                98084  231523  15.00  10.79\n",
       "Dec                43580  133207  12.63  10.36"
      ]
     },
     "execution_count": 34,
     "metadata": {},
     "output_type": "execute_result"
    }
   ],
   "source": [
    "pivot = df.pivot_table(index='started_at_month', columns='member_casual', values='duration_min', aggfunc=['count', 'mean'])\n",
    "month_list = ['Jan', 'Feb', 'Mar', 'Apr', 'May', 'Jun', 'Jul', 'Aug', 'Sep', 'Oct', 'Nov', 'Dec']\n",
    "pivot = pivot.reindex(month_list)\n",
    "pivot"
   ]
  },
  {
   "cell_type": "code",
   "execution_count": 35,
   "id": "1ee8596b",
   "metadata": {},
   "outputs": [
    {
     "data": {
      "image/png": "[encoded data removed]",
      "text/plain": [
       "<Figure size 864x360 with 2 Axes>"
      ]
     },
     "metadata": {
      "needs_background": "light"
     },
     "output_type": "display_data"
    }
   ],
   "source": [
    "fig, (ax1, ax2) = plt.subplots(1,2)\n",
    "fig.set_size_inches(12, 5)\n",
    "ax1 = pivot['count'].plot.bar(stacked=False, ax=ax1)\n",
    "ax2 = pivot['mean'].plot.bar(stacked=False, ax=ax2)\n",
    "ax1.set_ylabel('count')\n",
    "ax2.set_ylabel('mean_duration [min]')\n",
    "ax1.set_title('# rides vs month for members/casuals')\n",
    "ax2.set_title('mean ride duration (in minutes) vs month for members/casuals')\n",
    "fig.tight_layout()"
   ]
  },
  {
   "cell_type": "markdown",
   "id": "393793ee",
   "metadata": {},
   "source": [
    "#### <u>Description</u>:\n",
    "\n",
    "* Most rides are taken in summer and least rides are taken in winter both for Casuals and Members (left Figure).\n",
    "* Casuals ride on average longer than Members independent of month. The discrepancy is largest in spring and smallest in winter (right Figure)."
   ]
  },
  {
   "cell_type": "markdown",
   "id": "72c50a4c",
   "metadata": {},
   "source": [
    "### 4.3 Weekday statistics\n",
    "\n",
    "How does <span style='background:yellow'>the number of rides</span> and <span style='background:yellow'>mean ride duration</span> differs between <font color=blue>members/casuals</font> for different <font color=blue>weekdays</font>."
   ]
  },
  {
   "cell_type": "code",
   "execution_count": 36,
   "id": "c161b66d",
   "metadata": {},
   "outputs": [
    {
     "data": {
      "text/plain": [
       "started_at_weekday\n",
       "Sa    893943\n",
       "Th    822429\n",
       "Fr    783201\n",
       "We    780235\n",
       "Tu    764808\n",
       "Su    757187\n",
       "Mo    733984\n",
       "Name: started_at_weekday, dtype: int64"
      ]
     },
     "execution_count": 36,
     "metadata": {},
     "output_type": "execute_result"
    }
   ],
   "source": [
    "day_counts = df.groupby(by='started_at_weekday')['started_at_weekday'].count()\n",
    "day_counts = day_counts.sort_values(ascending=False)\n",
    "day_counts"
   ]
  },
  {
   "cell_type": "code",
   "execution_count": 37,
   "id": "30ce5b92",
   "metadata": {},
   "outputs": [
    {
     "data": {
      "text/html": [
       "<div>\n",
       "<style scoped>\n",
       "    .dataframe tbody tr th:only-of-type {\n",
       "        vertical-align: middle;\n",
       "    }\n",
       "\n",
       "    .dataframe tbody tr th {\n",
       "        vertical-align: top;\n",
       "    }\n",
       "\n",
       "    .dataframe thead tr th {\n",
       "        text-align: left;\n",
       "    }\n",
       "\n",
       "    .dataframe thead tr:last-of-type th {\n",
       "        text-align: right;\n",
       "    }\n",
       "</style>\n",
       "<table border=\"1\" class=\"dataframe\">\n",
       "  <thead>\n",
       "    <tr>\n",
       "      <th></th>\n",
       "      <th colspan=\"2\" halign=\"left\">count</th>\n",
       "      <th colspan=\"2\" halign=\"left\">mean</th>\n",
       "    </tr>\n",
       "    <tr>\n",
       "      <th>member_casual</th>\n",
       "      <th>casual</th>\n",
       "      <th>member</th>\n",
       "      <th>casual</th>\n",
       "      <th>member</th>\n",
       "    </tr>\n",
       "    <tr>\n",
       "      <th>started_at_weekday</th>\n",
       "      <th></th>\n",
       "      <th></th>\n",
       "      <th></th>\n",
       "      <th></th>\n",
       "    </tr>\n",
       "  </thead>\n",
       "  <tbody>\n",
       "    <tr>\n",
       "      <th>Mo</th>\n",
       "      <td>271024</td>\n",
       "      <td>462960</td>\n",
       "      <td>21.72</td>\n",
       "      <td>11.96</td>\n",
       "    </tr>\n",
       "    <tr>\n",
       "      <th>Tu</th>\n",
       "      <td>257392</td>\n",
       "      <td>507416</td>\n",
       "      <td>18.98</td>\n",
       "      <td>11.75</td>\n",
       "    </tr>\n",
       "    <tr>\n",
       "      <th>We</th>\n",
       "      <td>267926</td>\n",
       "      <td>512309</td>\n",
       "      <td>18.36</td>\n",
       "      <td>11.84</td>\n",
       "    </tr>\n",
       "    <tr>\n",
       "      <th>Th</th>\n",
       "      <td>301982</td>\n",
       "      <td>520447</td>\n",
       "      <td>18.91</td>\n",
       "      <td>12.01</td>\n",
       "    </tr>\n",
       "    <tr>\n",
       "      <th>Fr</th>\n",
       "      <td>326588</td>\n",
       "      <td>456613</td>\n",
       "      <td>19.92</td>\n",
       "      <td>12.21</td>\n",
       "    </tr>\n",
       "    <tr>\n",
       "      <th>Sa</th>\n",
       "      <td>461404</td>\n",
       "      <td>432539</td>\n",
       "      <td>23.76</td>\n",
       "      <td>13.80</td>\n",
       "    </tr>\n",
       "    <tr>\n",
       "      <th>Su</th>\n",
       "      <td>379246</td>\n",
       "      <td>377941</td>\n",
       "      <td>24.21</td>\n",
       "      <td>13.71</td>\n",
       "    </tr>\n",
       "  </tbody>\n",
       "</table>\n",
       "</div>"
      ],
      "text/plain": [
       "                     count           mean       \n",
       "member_casual       casual  member casual member\n",
       "started_at_weekday                              \n",
       "Mo                  271024  462960  21.72  11.96\n",
       "Tu                  257392  507416  18.98  11.75\n",
       "We                  267926  512309  18.36  11.84\n",
       "Th                  301982  520447  18.91  12.01\n",
       "Fr                  326588  456613  19.92  12.21\n",
       "Sa                  461404  432539  23.76  13.80\n",
       "Su                  379246  377941  24.21  13.71"
      ]
     },
     "execution_count": 37,
     "metadata": {},
     "output_type": "execute_result"
    }
   ],
   "source": [
    "pivot = df.pivot_table(index='started_at_weekday', columns='member_casual', values='duration_min', aggfunc=['count', 'mean'])\n",
    "weekday_list = ['Mo', 'Tu', 'We', 'Th', 'Fr', 'Sa', 'Su']\n",
    "pivot = pivot.reindex(weekday_list)\n",
    "pivot"
   ]
  },
  {
   "cell_type": "code",
   "execution_count": 38,
   "id": "fb856c2b",
   "metadata": {},
   "outputs": [
    {
     "data": {
      "image/png": "[encoded data removed]",
      "text/plain": [
       "<Figure size 864x360 with 2 Axes>"
      ]
     },
     "metadata": {
      "needs_background": "light"
     },
     "output_type": "display_data"
    }
   ],
   "source": [
    "fig, (ax1, ax2) = plt.subplots(1,2)\n",
    "fig.set_size_inches(12, 5)\n",
    "ax1 = pivot['count'].plot.bar(stacked=False, ax=ax1)\n",
    "ax2 = pivot['mean'].plot.bar(stacked=False, ax=ax2)\n",
    "ax1.set_ylabel('count')\n",
    "ax2.set_ylabel('mean_duration [min]')\n",
    "ax1.set_title('# rides vs weekday for members/casuals')\n",
    "ax2.set_title('mean ride duration (in minutes) vs weekday for members/casuals')\n",
    "fig.tight_layout()"
   ]
  },
  {
   "cell_type": "markdown",
   "id": "6f6d628a",
   "metadata": {},
   "source": [
    "#### <u>Description</u>:\n",
    "\n",
    "* Saturday is the most demanding day.\n",
    "* On weekends, Casuals take roughly as many rides as Members, whereas on working days Members take more rides than Casuals (left Figure).\n",
    "* Casuals use bikes on average longer than Members independent of the weekday (right Figure).\n",
    "* During weekends there is a tendency to ride longer both for Casuals and Members (right Figure)."
   ]
  },
  {
   "cell_type": "markdown",
   "id": "50780b22",
   "metadata": {},
   "source": [
    "### 4.4 Daytime statistics\n",
    "\n",
    "How does <span style='background:yellow'>the number of rides</span> and <span style='background:yellow'>mean ride duration</span> differs between <font color=blue>members/casuals</font> for different <font color=blue>daytimes</font>."
   ]
  },
  {
   "cell_type": "code",
   "execution_count": 39,
   "id": "aa4ec790",
   "metadata": {},
   "outputs": [
    {
     "data": {
      "text/plain": [
       "started_at_daytime\n",
       "noon       1858179\n",
       "evening    1627951\n",
       "morning    1361813\n",
       "night       687844\n",
       "Name: started_at_daytime, dtype: int64"
      ]
     },
     "execution_count": 39,
     "metadata": {},
     "output_type": "execute_result"
    }
   ],
   "source": [
    "daytime_counts = df.groupby(by='started_at_daytime')['started_at_daytime'].count()\n",
    "daytime_counts = daytime_counts.sort_values(ascending=False)\n",
    "daytime_counts"
   ]
  },
  {
   "cell_type": "markdown",
   "id": "ec733bd7",
   "metadata": {},
   "source": [
    "#### <u>Description</u>:\n",
    "\n",
    "* Noon (12:00 - 17:00) is the most demanding time of day\n",
    "* Night (21:00 - 5:00) is the least demanding time of day"
   ]
  },
  {
   "cell_type": "code",
   "execution_count": 40,
   "id": "84a6af3a",
   "metadata": {},
   "outputs": [
    {
     "data": {
      "text/html": [
       "<div>\n",
       "<style scoped>\n",
       "    .dataframe tbody tr th:only-of-type {\n",
       "        vertical-align: middle;\n",
       "    }\n",
       "\n",
       "    .dataframe tbody tr th {\n",
       "        vertical-align: top;\n",
       "    }\n",
       "\n",
       "    .dataframe thead tr th {\n",
       "        text-align: left;\n",
       "    }\n",
       "\n",
       "    .dataframe thead tr:last-of-type th {\n",
       "        text-align: right;\n",
       "    }\n",
       "</style>\n",
       "<table border=\"1\" class=\"dataframe\">\n",
       "  <thead>\n",
       "    <tr>\n",
       "      <th></th>\n",
       "      <th colspan=\"2\" halign=\"left\">count</th>\n",
       "      <th colspan=\"2\" halign=\"left\">mean</th>\n",
       "    </tr>\n",
       "    <tr>\n",
       "      <th>member_casual</th>\n",
       "      <th>casual</th>\n",
       "      <th>member</th>\n",
       "      <th>casual</th>\n",
       "      <th>member</th>\n",
       "    </tr>\n",
       "    <tr>\n",
       "      <th>started_at_daytime</th>\n",
       "      <th></th>\n",
       "      <th></th>\n",
       "      <th></th>\n",
       "      <th></th>\n",
       "    </tr>\n",
       "  </thead>\n",
       "  <tbody>\n",
       "    <tr>\n",
       "      <th>morning</th>\n",
       "      <td>439641</td>\n",
       "      <td>922172</td>\n",
       "      <td>21.04</td>\n",
       "      <td>11.66</td>\n",
       "    </tr>\n",
       "    <tr>\n",
       "      <th>noon</th>\n",
       "      <td>810995</td>\n",
       "      <td>1047184</td>\n",
       "      <td>24.07</td>\n",
       "      <td>12.69</td>\n",
       "    </tr>\n",
       "    <tr>\n",
       "      <th>evening</th>\n",
       "      <td>664485</td>\n",
       "      <td>963466</td>\n",
       "      <td>19.85</td>\n",
       "      <td>12.93</td>\n",
       "    </tr>\n",
       "    <tr>\n",
       "      <th>night</th>\n",
       "      <td>350441</td>\n",
       "      <td>337403</td>\n",
       "      <td>17.36</td>\n",
       "      <td>12.01</td>\n",
       "    </tr>\n",
       "  </tbody>\n",
       "</table>\n",
       "</div>"
      ],
      "text/plain": [
       "                     count            mean       \n",
       "member_casual       casual   member casual member\n",
       "started_at_daytime                               \n",
       "morning             439641   922172  21.04  11.66\n",
       "noon                810995  1047184  24.07  12.69\n",
       "evening             664485   963466  19.85  12.93\n",
       "night               350441   337403  17.36  12.01"
      ]
     },
     "execution_count": 40,
     "metadata": {},
     "output_type": "execute_result"
    }
   ],
   "source": [
    "pivot = df.pivot_table(index='started_at_daytime', columns='member_casual', values='duration_min', aggfunc=['count', 'mean'])\n",
    "daytime_list = ['morning', 'noon', 'evening', 'night']\n",
    "pivot = pivot.reindex(daytime_list)\n",
    "pivot"
   ]
  },
  {
   "cell_type": "code",
   "execution_count": 41,
   "id": "9f7b6971",
   "metadata": {},
   "outputs": [
    {
     "data": {
      "image/png": "[encoded data removed]",
      "text/plain": [
       "<Figure size 864x360 with 2 Axes>"
      ]
     },
     "metadata": {
      "needs_background": "light"
     },
     "output_type": "display_data"
    }
   ],
   "source": [
    "fig, (ax1, ax2) = plt.subplots(1,2)\n",
    "fig.set_size_inches(12, 5)\n",
    "ax1 = pivot['count'].plot.bar(stacked=False, ax=ax1)\n",
    "ax2 = pivot['mean'].plot.bar(stacked=False, ax=ax2)\n",
    "ax1.set_ylabel('count')\n",
    "ax2.set_ylabel('mean_duration [min]')\n",
    "ax1.set_title('# rides vs daytime for members/casuals')\n",
    "ax2.set_title('mean ride duration (in minutes) vs daytime for members/casuals')\n",
    "fig.tight_layout()"
   ]
  },
  {
   "cell_type": "markdown",
   "id": "c2a17fee",
   "metadata": {},
   "source": [
    "#### <u>Description</u>:\n",
    "\n",
    "* Casuals take longer rides than Members no matter when the ride has started during a day (right Figure).\n",
    "* During night, Members and Casuals are equally represented in terms of number of rides taken, otherwise Members take rides more (left Figure)."
   ]
  },
  {
   "cell_type": "markdown",
   "id": "a6976f17",
   "metadata": {},
   "source": [
    "### 4.5 Starting Areas\n",
    "\n",
    "How does <span style='background:yellow'>the number of rides</span> and <span style='background:yellow'>mean ride duration</span> differs between <font color=blue>members/casuals</font> for different <font color=blue>community areas</font>."
   ]
  },
  {
   "cell_type": "code",
   "execution_count": 42,
   "id": "4a670d85",
   "metadata": {},
   "outputs": [
    {
     "name": "stdout",
     "output_type": "stream",
     "text": [
      "Do the top 5 areas coincide for casuals and memebers? True\n"
     ]
    }
   ],
   "source": [
    "### evaluate top 10 popular areas (by number of initiated rides from)\n",
    "num_areas = 5\n",
    "\n",
    "pivot = df.pivot_table(index='start_area', columns='member_casual', values='ride_id', aggfunc='count')\n",
    "\n",
    "### top areas for casuals\n",
    "pivot = pivot.sort_values(by=['casual'], ascending=False)\n",
    "top_areas_casual = pivot.iloc[:num_areas].index.to_list()\n",
    "### top areas for members\n",
    "pivot = pivot.sort_values(by=['member'], ascending=False)\n",
    "top_areas_member = pivot.iloc[:num_areas].index.to_list()\n",
    "\n",
    "### overlap of top areas\n",
    "def intersection(lst1, lst2):\n",
    "    lst = [value for value in lst1 if value in lst2]\n",
    "    return lst\n",
    "\n",
    "common_areas = intersection(top_areas_casual, top_areas_member)\n",
    "print(f'Do the top {num_areas} areas coincide for casuals and memebers? {len(common_areas) == num_areas}')"
   ]
  },
  {
   "cell_type": "code",
   "execution_count": 43,
   "id": "2779a39f",
   "metadata": {},
   "outputs": [
    {
     "data": {
      "text/html": [
       "<div>\n",
       "<style scoped>\n",
       "    .dataframe tbody tr th:only-of-type {\n",
       "        vertical-align: middle;\n",
       "    }\n",
       "\n",
       "    .dataframe tbody tr th {\n",
       "        vertical-align: top;\n",
       "    }\n",
       "\n",
       "    .dataframe thead tr th {\n",
       "        text-align: left;\n",
       "    }\n",
       "\n",
       "    .dataframe thead tr:last-of-type th {\n",
       "        text-align: right;\n",
       "    }\n",
       "</style>\n",
       "<table border=\"1\" class=\"dataframe\">\n",
       "  <thead>\n",
       "    <tr>\n",
       "      <th></th>\n",
       "      <th colspan=\"2\" halign=\"left\">count</th>\n",
       "      <th colspan=\"2\" halign=\"left\">mean</th>\n",
       "    </tr>\n",
       "    <tr>\n",
       "      <th>member_casual</th>\n",
       "      <th>casual</th>\n",
       "      <th>member</th>\n",
       "      <th>casual</th>\n",
       "      <th>member</th>\n",
       "    </tr>\n",
       "    <tr>\n",
       "      <th>start_area</th>\n",
       "      <th></th>\n",
       "      <th></th>\n",
       "      <th></th>\n",
       "      <th></th>\n",
       "    </tr>\n",
       "  </thead>\n",
       "  <tbody>\n",
       "    <tr>\n",
       "      <th>NEAR NORTH SIDE</th>\n",
       "      <td>421648</td>\n",
       "      <td>580267</td>\n",
       "      <td>23.01</td>\n",
       "      <td>12.37</td>\n",
       "    </tr>\n",
       "    <tr>\n",
       "      <th>LINCOLN PARK</th>\n",
       "      <td>315801</td>\n",
       "      <td>406349</td>\n",
       "      <td>19.21</td>\n",
       "      <td>12.26</td>\n",
       "    </tr>\n",
       "    <tr>\n",
       "      <th>LOOP</th>\n",
       "      <td>280351</td>\n",
       "      <td>315556</td>\n",
       "      <td>28.75</td>\n",
       "      <td>12.94</td>\n",
       "    </tr>\n",
       "    <tr>\n",
       "      <th>LAKE VIEW</th>\n",
       "      <td>246392</td>\n",
       "      <td>339865</td>\n",
       "      <td>17.61</td>\n",
       "      <td>12.02</td>\n",
       "    </tr>\n",
       "    <tr>\n",
       "      <th>NEAR WEST SIDE</th>\n",
       "      <td>170642</td>\n",
       "      <td>426031</td>\n",
       "      <td>17.18</td>\n",
       "      <td>10.83</td>\n",
       "    </tr>\n",
       "  </tbody>\n",
       "</table>\n",
       "</div>"
      ],
      "text/plain": [
       "                  count           mean       \n",
       "member_casual    casual  member casual member\n",
       "start_area                                   \n",
       "NEAR NORTH SIDE  421648  580267  23.01  12.37\n",
       "LINCOLN PARK     315801  406349  19.21  12.26\n",
       "LOOP             280351  315556  28.75  12.94\n",
       "LAKE VIEW        246392  339865  17.61  12.02\n",
       "NEAR WEST SIDE   170642  426031  17.18  10.83"
      ]
     },
     "execution_count": 43,
     "metadata": {},
     "output_type": "execute_result"
    }
   ],
   "source": [
    "pivot = df.pivot_table(index='start_area', columns='member_casual', values='duration_min', aggfunc=['count', 'mean'])\n",
    "pivot = pivot.sort_values(by=[('count', 'casual')], ascending=False)\n",
    "pivot = pivot.iloc[:num_areas]\n",
    "pivot"
   ]
  },
  {
   "cell_type": "code",
   "execution_count": 44,
   "id": "5a3eb8fc",
   "metadata": {},
   "outputs": [
    {
     "data": {
      "image/png": "[encoded data removed]",
      "text/plain": [
       "<Figure size 864x360 with 2 Axes>"
      ]
     },
     "metadata": {
      "needs_background": "light"
     },
     "output_type": "display_data"
    }
   ],
   "source": [
    "fig, (ax1, ax2) = plt.subplots(1,2)\n",
    "fig.set_size_inches(12, 5)\n",
    "ax1 = pivot['count'].plot.bar(stacked=False, ax=ax1)\n",
    "ax2 = pivot['mean'].plot.bar(stacked=False, ax=ax2)\n",
    "ax1.set_ylabel('count')\n",
    "ax2.set_ylabel('mean_duration [min]')\n",
    "ax1.set_title('# rides vs community_area for members/casuals')\n",
    "ax2.set_title('mean ride duration (in minutes) vs community_area for members/casuals')\n",
    "fig.tight_layout()"
   ]
  },
  {
   "cell_type": "markdown",
   "id": "b183cbc4",
   "metadata": {},
   "source": [
    "#### <u>Description</u>:\n",
    "\n",
    "* For the top 5 areas, Members initiate rides more frequently than Casuals.\n",
    "* For the top 5 areas, Casuals take rides for longer than Members."
   ]
  },
  {
   "cell_type": "code",
   "execution_count": 45,
   "id": "0ffe6a33",
   "metadata": {},
   "outputs": [
    {
     "data": {
      "text/html": [
       "<div>\n",
       "<style scoped>\n",
       "    .dataframe tbody tr th:only-of-type {\n",
       "        vertical-align: middle;\n",
       "    }\n",
       "\n",
       "    .dataframe tbody tr th {\n",
       "        vertical-align: top;\n",
       "    }\n",
       "\n",
       "    .dataframe thead th {\n",
       "        text-align: right;\n",
       "    }\n",
       "</style>\n",
       "<table border=\"1\" class=\"dataframe\">\n",
       "  <thead>\n",
       "    <tr style=\"text-align: right;\">\n",
       "      <th>member_casual</th>\n",
       "      <th>casual</th>\n",
       "      <th>member</th>\n",
       "    </tr>\n",
       "    <tr>\n",
       "      <th>start_area</th>\n",
       "      <th></th>\n",
       "      <th></th>\n",
       "    </tr>\n",
       "  </thead>\n",
       "  <tbody>\n",
       "    <tr>\n",
       "      <th>NEAR SOUTH SIDE</th>\n",
       "      <td>80688</td>\n",
       "      <td>64344</td>\n",
       "    </tr>\n",
       "    <tr>\n",
       "      <th>BELMONT CRAGIN</th>\n",
       "      <td>9852</td>\n",
       "      <td>9530</td>\n",
       "    </tr>\n",
       "    <tr>\n",
       "      <th>AUSTIN</th>\n",
       "      <td>6781</td>\n",
       "      <td>4536</td>\n",
       "    </tr>\n",
       "    <tr>\n",
       "      <th>PORTAGE PARK</th>\n",
       "      <td>5803</td>\n",
       "      <td>5177</td>\n",
       "    </tr>\n",
       "    <tr>\n",
       "      <th>HERMOSA</th>\n",
       "      <td>4713</td>\n",
       "      <td>3759</td>\n",
       "    </tr>\n",
       "    <tr>\n",
       "      <th>GAGE PARK</th>\n",
       "      <td>4380</td>\n",
       "      <td>1943</td>\n",
       "    </tr>\n",
       "    <tr>\n",
       "      <th>NORTH LAWNDALE</th>\n",
       "      <td>3816</td>\n",
       "      <td>2811</td>\n",
       "    </tr>\n",
       "    <tr>\n",
       "      <th>DUNNING</th>\n",
       "      <td>3533</td>\n",
       "      <td>2789</td>\n",
       "    </tr>\n",
       "    <tr>\n",
       "      <th>NEW CITY</th>\n",
       "      <td>3420</td>\n",
       "      <td>2642</td>\n",
       "    </tr>\n",
       "    <tr>\n",
       "      <th>EAST GARFIELD PARK</th>\n",
       "      <td>3019</td>\n",
       "      <td>2380</td>\n",
       "    </tr>\n",
       "  </tbody>\n",
       "</table>\n",
       "</div>"
      ],
      "text/plain": [
       "member_casual       casual  member\n",
       "start_area                        \n",
       "NEAR SOUTH SIDE      80688   64344\n",
       "BELMONT CRAGIN        9852    9530\n",
       "AUSTIN                6781    4536\n",
       "PORTAGE PARK          5803    5177\n",
       "HERMOSA               4713    3759\n",
       "GAGE PARK             4380    1943\n",
       "NORTH LAWNDALE        3816    2811\n",
       "DUNNING               3533    2789\n",
       "NEW CITY              3420    2642\n",
       "EAST GARFIELD PARK    3019    2380"
      ]
     },
     "execution_count": 45,
     "metadata": {},
     "output_type": "execute_result"
    }
   ],
   "source": [
    "### areas where casuals initiate rides more often than members\n",
    "pivot = df.pivot_table(index='start_area', columns='member_casual', values='duration_min', aggfunc='count')\n",
    "pivot = pivot[pivot['casual'] > pivot['member']]\n",
    "pivot.sort_values(by=['casual'], ascending=False).head(10)"
   ]
  },
  {
   "cell_type": "markdown",
   "id": "90a19e4d",
   "metadata": {},
   "source": [
    "<input type=\"checkbox\" disabled  checked/> A summary of your analysis"
   ]
  },
  {
   "cell_type": "markdown",
   "id": "99dd74df",
   "metadata": {},
   "source": [
    "## 5. Share\n",
    "\n",
    "Key findings of the above analysis:\n",
    "\n",
    "* <font color=green>Casuals</font> **favour electric bikes over classic bikes**, which is the opposite for <font color=green>Members</font> (see 4.1).\n",
    "* <font color=green>Casuals</font> rent bikes **less frequently** than <font color=green>Members</font> independet of month (see 4.2).\n",
    "* <font color=green>Casuals</font> rent bikes **less frequently** than <font color=green>Members</font> on workdays (see 4.3) and at morning-to-evening (see 4.4).\n",
    "* <font color=green>Casuals</font> rent bikes **for a longer duration** than <font color=green>Members</font> independet of month, dayweek or daytime (see 4.2-4.4).\n",
    "* In **top 5 community areas** judged by total rides, <font color=green>Casuals</font> rent bikes **less frequently** than <font color=green>Members</font> (see 4.5).\n",
    "* We created a **list of community areas**, where <font color=green>Casuals</font> rent bikes **more frequently** than <font color=green>Members</font>."
   ]
  },
  {
   "cell_type": "markdown",
   "id": "25c1c801",
   "metadata": {},
   "source": [
    "<input type=\"checkbox\" disabled  checked/> Supporting visualizations and key findings"
   ]
  },
  {
   "cell_type": "markdown",
   "id": "f29010e6",
   "metadata": {},
   "source": [
    "## 6. Act\n",
    "\n",
    "Top three recommendations:\n",
    "\n",
    "* <font color=green>Casuals</font> use **docked** bikes and ride them on average for longest. Couple docked bikes to annual memberships?\n",
    "* Introduce **discounts** for <font color=green>Members</font> which **increase with the ride duration**.\n",
    "* Launch a **summer** marketing campaign on **weekends** at **noon-to-evening** time in **top areas** where <font color=green>Casuals</font> launch rides most often to achieve the largest impact.\n",
    "\n",
    "Furthermore:\n",
    "\n",
    "* Find out why do <font color=green>Casuals</font> rent bikes **less frequently**? Do <font color=green>Casuals</font> use a bike for a special occasion or activity, rather than a regular form of transportation? Are there troubles with availability?\n",
    "* Find out what are the current **benefits/drawbacks of annual membership as compared to single-ride/full-day passes**? Do <font color=green>Members</font> pay less/nothing for short rides? Is there a fee for launching a ride? How do the rates differ between <font color=green>Casuals</font> and <font color=green>Members</font>?"
   ]
  },
  {
   "cell_type": "markdown",
   "id": "25fe6d4e",
   "metadata": {},
   "source": [
    "<input type=\"checkbox\" disabled  checked/> Your top three recommendations based on your analysis"
   ]
  }
 ],
 "metadata": {
  "kernelspec": {
   "display_name": "Python 3 (ipykernel)",
   "language": "python",
   "name": "python3"
  },
  "language_info": {
   "codemirror_mode": {
    "name": "ipython",
    "version": 3
   },
   "file_extension": ".py",
   "mimetype": "text/x-python",
   "name": "python",
   "nbconvert_exporter": "python",
   "pygments_lexer": "ipython3",
   "version": "3.9.7"
  }
 },
 "nbformat": 4,
 "nbformat_minor": 5
}
